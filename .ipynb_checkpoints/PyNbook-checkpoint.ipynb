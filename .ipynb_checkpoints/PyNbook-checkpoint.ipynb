{
 "cells": [
  {
   "cell_type": "code",
   "execution_count": 93,
   "metadata": {},
   "outputs": [],
   "source": [
    "import numpy as np\n",
    "import pandas as pd\n",
    "import matplotlib.pyplot as plt\n",
    "import seaborn as sns\n",
    "from sklearn.preprocessing import OneHotEncoder\n",
    "from sklearn.preprocessing import LabelEncoder\n",
    "from scipy import stats\n",
    "from datetime import datetime"
   ]
  },
  {
   "cell_type": "code",
   "execution_count": 48,
   "metadata": {},
   "outputs": [],
   "source": [
    "df3=pd.read_csv(\"covid_tracking.csv\")\n",
    "# df=pd.read_csv(\"daily_us.csv\")"
   ]
  },
  {
   "cell_type": "code",
   "execution_count": 49,
   "metadata": {
    "scrolled": true
   },
   "outputs": [
    {
     "data": {
      "text/html": [
       "<div>\n",
       "<style scoped>\n",
       "    .dataframe tbody tr th:only-of-type {\n",
       "        vertical-align: middle;\n",
       "    }\n",
       "\n",
       "    .dataframe tbody tr th {\n",
       "        vertical-align: top;\n",
       "    }\n",
       "\n",
       "    .dataframe thead th {\n",
       "        text-align: right;\n",
       "    }\n",
       "</style>\n",
       "<table border=\"1\" class=\"dataframe\">\n",
       "  <thead>\n",
       "    <tr style=\"text-align: right;\">\n",
       "      <th></th>\n",
       "      <th>date</th>\n",
       "      <th>state</th>\n",
       "      <th>positive</th>\n",
       "      <th>negative</th>\n",
       "      <th>pending</th>\n",
       "      <th>hospitalized_currently</th>\n",
       "      <th>hospitalized_cumulative</th>\n",
       "      <th>in_icu_currently</th>\n",
       "      <th>in_icu_cumulative</th>\n",
       "      <th>on_ventilator_currently</th>\n",
       "      <th>...</th>\n",
       "      <th>fips</th>\n",
       "      <th>death_increase</th>\n",
       "      <th>hospitalized_increase</th>\n",
       "      <th>negative_increase</th>\n",
       "      <th>positive_increase</th>\n",
       "      <th>total_test_results_increase</th>\n",
       "      <th>fips_code</th>\n",
       "      <th>iso_subdivision</th>\n",
       "      <th>load_time</th>\n",
       "      <th>iso_country</th>\n",
       "    </tr>\n",
       "  </thead>\n",
       "  <tbody>\n",
       "    <tr>\n",
       "      <th>0</th>\n",
       "      <td>2020-07-24</td>\n",
       "      <td>AK</td>\n",
       "      <td>2748.0</td>\n",
       "      <td>197824.0</td>\n",
       "      <td>NaN</td>\n",
       "      <td>37.0</td>\n",
       "      <td>NaN</td>\n",
       "      <td>NaN</td>\n",
       "      <td>NaN</td>\n",
       "      <td>1.0</td>\n",
       "      <td>...</td>\n",
       "      <td>2</td>\n",
       "      <td>0</td>\n",
       "      <td>0</td>\n",
       "      <td>10999</td>\n",
       "      <td>64</td>\n",
       "      <td>11063</td>\n",
       "      <td>2</td>\n",
       "      <td>US-AK</td>\n",
       "      <td>2020-07-25 00:05:13</td>\n",
       "      <td>US</td>\n",
       "    </tr>\n",
       "    <tr>\n",
       "      <th>1</th>\n",
       "      <td>2020-07-24</td>\n",
       "      <td>AL</td>\n",
       "      <td>76005.0</td>\n",
       "      <td>552979.0</td>\n",
       "      <td>NaN</td>\n",
       "      <td>1570.0</td>\n",
       "      <td>9157.0</td>\n",
       "      <td>NaN</td>\n",
       "      <td>1058.0</td>\n",
       "      <td>NaN</td>\n",
       "      <td>...</td>\n",
       "      <td>1</td>\n",
       "      <td>41</td>\n",
       "      <td>162</td>\n",
       "      <td>7664</td>\n",
       "      <td>1793</td>\n",
       "      <td>9457</td>\n",
       "      <td>1</td>\n",
       "      <td>US-AL</td>\n",
       "      <td>2020-07-25 00:05:13</td>\n",
       "      <td>US</td>\n",
       "    </tr>\n",
       "    <tr>\n",
       "      <th>2</th>\n",
       "      <td>2020-07-24</td>\n",
       "      <td>AR</td>\n",
       "      <td>37249.0</td>\n",
       "      <td>424215.0</td>\n",
       "      <td>NaN</td>\n",
       "      <td>497.0</td>\n",
       "      <td>2361.0</td>\n",
       "      <td>NaN</td>\n",
       "      <td>NaN</td>\n",
       "      <td>109.0</td>\n",
       "      <td>...</td>\n",
       "      <td>5</td>\n",
       "      <td>8</td>\n",
       "      <td>0</td>\n",
       "      <td>13994</td>\n",
       "      <td>990</td>\n",
       "      <td>14984</td>\n",
       "      <td>5</td>\n",
       "      <td>US-AR</td>\n",
       "      <td>2020-07-25 00:05:13</td>\n",
       "      <td>US</td>\n",
       "    </tr>\n",
       "    <tr>\n",
       "      <th>3</th>\n",
       "      <td>2020-07-24</td>\n",
       "      <td>AS</td>\n",
       "      <td>0.0</td>\n",
       "      <td>1037.0</td>\n",
       "      <td>NaN</td>\n",
       "      <td>NaN</td>\n",
       "      <td>NaN</td>\n",
       "      <td>NaN</td>\n",
       "      <td>NaN</td>\n",
       "      <td>NaN</td>\n",
       "      <td>...</td>\n",
       "      <td>60</td>\n",
       "      <td>0</td>\n",
       "      <td>0</td>\n",
       "      <td>0</td>\n",
       "      <td>0</td>\n",
       "      <td>0</td>\n",
       "      <td>60</td>\n",
       "      <td>US-AS</td>\n",
       "      <td>2020-07-25 00:05:13</td>\n",
       "      <td>US</td>\n",
       "    </tr>\n",
       "    <tr>\n",
       "      <th>4</th>\n",
       "      <td>2020-07-24</td>\n",
       "      <td>AZ</td>\n",
       "      <td>156301.0</td>\n",
       "      <td>680516.0</td>\n",
       "      <td>NaN</td>\n",
       "      <td>2844.0</td>\n",
       "      <td>7461.0</td>\n",
       "      <td>837.0</td>\n",
       "      <td>NaN</td>\n",
       "      <td>575.0</td>\n",
       "      <td>...</td>\n",
       "      <td>4</td>\n",
       "      <td>79</td>\n",
       "      <td>225</td>\n",
       "      <td>10747</td>\n",
       "      <td>3357</td>\n",
       "      <td>14104</td>\n",
       "      <td>4</td>\n",
       "      <td>US-AZ</td>\n",
       "      <td>2020-07-25 00:05:13</td>\n",
       "      <td>US</td>\n",
       "    </tr>\n",
       "  </tbody>\n",
       "</table>\n",
       "<p>5 rows × 31 columns</p>\n",
       "</div>"
      ],
      "text/plain": [
       "         date state  positive  negative  pending  hospitalized_currently  \\\n",
       "0  2020-07-24    AK    2748.0  197824.0      NaN                    37.0   \n",
       "1  2020-07-24    AL   76005.0  552979.0      NaN                  1570.0   \n",
       "2  2020-07-24    AR   37249.0  424215.0      NaN                   497.0   \n",
       "3  2020-07-24    AS       0.0    1037.0      NaN                     NaN   \n",
       "4  2020-07-24    AZ  156301.0  680516.0      NaN                  2844.0   \n",
       "\n",
       "   hospitalized_cumulative  in_icu_currently  in_icu_cumulative  \\\n",
       "0                      NaN               NaN                NaN   \n",
       "1                   9157.0               NaN             1058.0   \n",
       "2                   2361.0               NaN                NaN   \n",
       "3                      NaN               NaN                NaN   \n",
       "4                   7461.0             837.0                NaN   \n",
       "\n",
       "   on_ventilator_currently  ...  fips  death_increase hospitalized_increase  \\\n",
       "0                      1.0  ...     2               0                     0   \n",
       "1                      NaN  ...     1              41                   162   \n",
       "2                    109.0  ...     5               8                     0   \n",
       "3                      NaN  ...    60               0                     0   \n",
       "4                    575.0  ...     4              79                   225   \n",
       "\n",
       "  negative_increase positive_increase total_test_results_increase  fips_code  \\\n",
       "0             10999                64                       11063          2   \n",
       "1              7664              1793                        9457          1   \n",
       "2             13994               990                       14984          5   \n",
       "3                 0                 0                           0         60   \n",
       "4             10747              3357                       14104          4   \n",
       "\n",
       "   iso_subdivision            load_time  iso_country  \n",
       "0            US-AK  2020-07-25 00:05:13           US  \n",
       "1            US-AL  2020-07-25 00:05:13           US  \n",
       "2            US-AR  2020-07-25 00:05:13           US  \n",
       "3            US-AS  2020-07-25 00:05:13           US  \n",
       "4            US-AZ  2020-07-25 00:05:13           US  \n",
       "\n",
       "[5 rows x 31 columns]"
      ]
     },
     "execution_count": 49,
     "metadata": {},
     "output_type": "execute_result"
    }
   ],
   "source": [
    "df_copy=df3.copy()\n",
    "df_copy.head()"
   ]
  },
  {
   "cell_type": "code",
   "execution_count": 50,
   "metadata": {},
   "outputs": [
    {
     "data": {
      "text/plain": [
       "Index(['date', 'state', 'positive', 'negative', 'pending',\n",
       "       'hospitalized_currently', 'hospitalized_cumulative', 'in_icu_currently',\n",
       "       'in_icu_cumulative', 'on_ventilator_currently',\n",
       "       'on_ventilator_cumulative', 'recovered', 'data_quality_grade',\n",
       "       'last_update_et', 'hash', 'date_checked', 'death', 'hospitalized',\n",
       "       'total', 'total_test_results', 'pos_neg', 'fips', 'death_increase',\n",
       "       'hospitalized_increase', 'negative_increase', 'positive_increase',\n",
       "       'total_test_results_increase', 'fips_code', 'iso_subdivision',\n",
       "       'load_time', 'iso_country'],\n",
       "      dtype='object')"
      ]
     },
     "execution_count": 50,
     "metadata": {},
     "output_type": "execute_result"
    }
   ],
   "source": [
    "df_copy.columns"
   ]
  },
  {
   "cell_type": "code",
   "execution_count": 51,
   "metadata": {},
   "outputs": [],
   "source": [
    "# sns.heatmap(df_copy.isnull(), cbar=False)\n",
    "df_copy.drop([\"iso_country\",\"load_time\",'pos_neg','positive_increase',\"iso_subdivision\",\"fips_code\",\"fips\",'last_update_et', 'hash',\"total_test_results_increase\",\"total\",\"negative_increase\",\"hospitalized_increase\",\"hospitalized\",\"death_increase\",\"last_update_et\",\"load_time\",\"date_checked\"],axis=1,inplace=True)"
   ]
  },
  {
   "cell_type": "code",
   "execution_count": null,
   "metadata": {},
   "outputs": [],
   "source": [
    "df_copy.drop([\"pending\",'on_ventilator_currently'])"
   ]
  },
  {
   "cell_type": "code",
   "execution_count": 52,
   "metadata": {},
   "outputs": [
    {
     "data": {
      "text/html": [
       "<div>\n",
       "<style scoped>\n",
       "    .dataframe tbody tr th:only-of-type {\n",
       "        vertical-align: middle;\n",
       "    }\n",
       "\n",
       "    .dataframe tbody tr th {\n",
       "        vertical-align: top;\n",
       "    }\n",
       "\n",
       "    .dataframe thead th {\n",
       "        text-align: right;\n",
       "    }\n",
       "</style>\n",
       "<table border=\"1\" class=\"dataframe\">\n",
       "  <thead>\n",
       "    <tr style=\"text-align: right;\">\n",
       "      <th></th>\n",
       "      <th>date</th>\n",
       "      <th>state</th>\n",
       "      <th>positive</th>\n",
       "      <th>negative</th>\n",
       "      <th>pending</th>\n",
       "      <th>hospitalized_currently</th>\n",
       "      <th>hospitalized_cumulative</th>\n",
       "      <th>in_icu_currently</th>\n",
       "      <th>in_icu_cumulative</th>\n",
       "      <th>on_ventilator_currently</th>\n",
       "      <th>on_ventilator_cumulative</th>\n",
       "      <th>recovered</th>\n",
       "      <th>data_quality_grade</th>\n",
       "      <th>death</th>\n",
       "      <th>total_test_results</th>\n",
       "    </tr>\n",
       "  </thead>\n",
       "  <tbody>\n",
       "    <tr>\n",
       "      <th>0</th>\n",
       "      <td>2020-07-24</td>\n",
       "      <td>AK</td>\n",
       "      <td>2748.0</td>\n",
       "      <td>197824.0</td>\n",
       "      <td>NaN</td>\n",
       "      <td>37.0</td>\n",
       "      <td>NaN</td>\n",
       "      <td>NaN</td>\n",
       "      <td>NaN</td>\n",
       "      <td>1.0</td>\n",
       "      <td>NaN</td>\n",
       "      <td>800.0</td>\n",
       "      <td>A</td>\n",
       "      <td>19.0</td>\n",
       "      <td>200572</td>\n",
       "    </tr>\n",
       "    <tr>\n",
       "      <th>1</th>\n",
       "      <td>2020-07-24</td>\n",
       "      <td>AL</td>\n",
       "      <td>76005.0</td>\n",
       "      <td>552979.0</td>\n",
       "      <td>NaN</td>\n",
       "      <td>1570.0</td>\n",
       "      <td>9157.0</td>\n",
       "      <td>NaN</td>\n",
       "      <td>1058.0</td>\n",
       "      <td>NaN</td>\n",
       "      <td>565.0</td>\n",
       "      <td>32510.0</td>\n",
       "      <td>B</td>\n",
       "      <td>1438.0</td>\n",
       "      <td>628984</td>\n",
       "    </tr>\n",
       "    <tr>\n",
       "      <th>2</th>\n",
       "      <td>2020-07-24</td>\n",
       "      <td>AR</td>\n",
       "      <td>37249.0</td>\n",
       "      <td>424215.0</td>\n",
       "      <td>NaN</td>\n",
       "      <td>497.0</td>\n",
       "      <td>2361.0</td>\n",
       "      <td>NaN</td>\n",
       "      <td>NaN</td>\n",
       "      <td>109.0</td>\n",
       "      <td>329.0</td>\n",
       "      <td>29827.0</td>\n",
       "      <td>A+</td>\n",
       "      <td>394.0</td>\n",
       "      <td>461464</td>\n",
       "    </tr>\n",
       "    <tr>\n",
       "      <th>3</th>\n",
       "      <td>2020-07-24</td>\n",
       "      <td>AS</td>\n",
       "      <td>0.0</td>\n",
       "      <td>1037.0</td>\n",
       "      <td>NaN</td>\n",
       "      <td>NaN</td>\n",
       "      <td>NaN</td>\n",
       "      <td>NaN</td>\n",
       "      <td>NaN</td>\n",
       "      <td>NaN</td>\n",
       "      <td>NaN</td>\n",
       "      <td>NaN</td>\n",
       "      <td>C</td>\n",
       "      <td>0.0</td>\n",
       "      <td>1037</td>\n",
       "    </tr>\n",
       "    <tr>\n",
       "      <th>4</th>\n",
       "      <td>2020-07-24</td>\n",
       "      <td>AZ</td>\n",
       "      <td>156301.0</td>\n",
       "      <td>680516.0</td>\n",
       "      <td>NaN</td>\n",
       "      <td>2844.0</td>\n",
       "      <td>7461.0</td>\n",
       "      <td>837.0</td>\n",
       "      <td>NaN</td>\n",
       "      <td>575.0</td>\n",
       "      <td>NaN</td>\n",
       "      <td>20171.0</td>\n",
       "      <td>A+</td>\n",
       "      <td>3142.0</td>\n",
       "      <td>836817</td>\n",
       "    </tr>\n",
       "  </tbody>\n",
       "</table>\n",
       "</div>"
      ],
      "text/plain": [
       "         date state  positive  negative  pending  hospitalized_currently  \\\n",
       "0  2020-07-24    AK    2748.0  197824.0      NaN                    37.0   \n",
       "1  2020-07-24    AL   76005.0  552979.0      NaN                  1570.0   \n",
       "2  2020-07-24    AR   37249.0  424215.0      NaN                   497.0   \n",
       "3  2020-07-24    AS       0.0    1037.0      NaN                     NaN   \n",
       "4  2020-07-24    AZ  156301.0  680516.0      NaN                  2844.0   \n",
       "\n",
       "   hospitalized_cumulative  in_icu_currently  in_icu_cumulative  \\\n",
       "0                      NaN               NaN                NaN   \n",
       "1                   9157.0               NaN             1058.0   \n",
       "2                   2361.0               NaN                NaN   \n",
       "3                      NaN               NaN                NaN   \n",
       "4                   7461.0             837.0                NaN   \n",
       "\n",
       "   on_ventilator_currently  on_ventilator_cumulative  recovered  \\\n",
       "0                      1.0                       NaN      800.0   \n",
       "1                      NaN                     565.0    32510.0   \n",
       "2                    109.0                     329.0    29827.0   \n",
       "3                      NaN                       NaN        NaN   \n",
       "4                    575.0                       NaN    20171.0   \n",
       "\n",
       "  data_quality_grade   death  total_test_results  \n",
       "0                  A    19.0              200572  \n",
       "1                  B  1438.0              628984  \n",
       "2                 A+   394.0              461464  \n",
       "3                  C     0.0                1037  \n",
       "4                 A+  3142.0              836817  "
      ]
     },
     "execution_count": 52,
     "metadata": {},
     "output_type": "execute_result"
    }
   ],
   "source": [
    "df_copy.head()"
   ]
  },
  {
   "cell_type": "code",
   "execution_count": 53,
   "metadata": {},
   "outputs": [
    {
     "data": {
      "text/plain": [
       "<matplotlib.axes._subplots.AxesSubplot at 0x1eaec27fbe0>"
      ]
     },
     "execution_count": 53,
     "metadata": {},
     "output_type": "execute_result"
    },
    {
     "data": {
      "image/png": "[encoded data removed]",
      "text/plain": [
       "<Figure size 432x288 with 1 Axes>"
      ]
     },
     "metadata": {
      "needs_background": "light"
     },
     "output_type": "display_data"
    }
   ],
   "source": [
    "sns.heatmap(df_copy.isnull(), cbar=False)"
   ]
  },
  {
   "cell_type": "code",
   "execution_count": 54,
   "metadata": {},
   "outputs": [
    {
     "data": {
      "text/plain": [
       "date                           0\n",
       "state                          0\n",
       "positive                      15\n",
       "negative                     176\n",
       "pending                     7326\n",
       "hospitalized_currently      2814\n",
       "hospitalized_cumulative     4047\n",
       "in_icu_currently            5558\n",
       "in_icu_cumulative           7232\n",
       "on_ventilator_currently     5889\n",
       "on_ventilator_cumulative    8081\n",
       "recovered                   3314\n",
       "data_quality_grade          1175\n",
       "death                        767\n",
       "total_test_results             0\n",
       "dtype: int64"
      ]
     },
     "execution_count": 54,
     "metadata": {},
     "output_type": "execute_result"
    }
   ],
   "source": [
    "df_copy.isnull().sum()"
   ]
  },
  {
   "cell_type": "code",
   "execution_count": 62,
   "metadata": {},
   "outputs": [
    {
     "data": {
      "text/plain": [
       "date                         object\n",
       "state                        object\n",
       "positive                    float64\n",
       "negative                    float64\n",
       "pending                     float64\n",
       "hospitalized_currently      float64\n",
       "hospitalized_cumulative     float64\n",
       "in_icu_currently            float64\n",
       "in_icu_cumulative           float64\n",
       "on_ventilator_currently     float64\n",
       "on_ventilator_cumulative    float64\n",
       "recovered                   float64\n",
       "data_quality_grade           object\n",
       "death                       float64\n",
       "total_test_results            int64\n",
       "dtype: object"
      ]
     },
     "execution_count": 62,
     "metadata": {},
     "output_type": "execute_result"
    }
   ],
   "source": [
    "df_copy.dtypes"
   ]
  },
  {
   "cell_type": "code",
   "execution_count": 65,
   "metadata": {},
   "outputs": [],
   "source": [
    "columnData=df_copy.columns.drop(['date','state','data_quality_grade'])"
   ]
  },
  {
   "cell_type": "code",
   "execution_count": 66,
   "metadata": {},
   "outputs": [
    {
     "name": "stdout",
     "output_type": "stream",
     "text": [
      "positive : 4.210422278493608\n",
      "negative : 5.314906748698258\n",
      "pending : 7.0673263289006\n",
      "hospitalized_currently : 4.794512666645252\n",
      "hospitalized_cumulative : 5.506335555198957\n",
      "in_icu_currently : 3.975538701350723\n",
      "in_icu_cumulative : 1.1747196477091009\n",
      "on_ventilator_currently : 2.967950428862107\n",
      "on_ventilator_cumulative : 1.15711577457787\n",
      "recovered : 2.843733405063294\n",
      "death : 4.604462945381705\n",
      "total_test_results : 5.203081260928844\n"
     ]
    }
   ],
   "source": [
    "for x in columnData:\n",
    "    skewVal=df_copy[x].skew()\n",
    "    print(x,\":\",skewVal)"
   ]
  },
  {
   "cell_type": "code",
   "execution_count": 80,
   "metadata": {},
   "outputs": [
    {
     "name": "stdout",
     "output_type": "stream",
     "text": [
      "positive : 1.6911869271224638\n",
      "negative : 1.8351123651174055\n",
      "pending : 3.1179544308282874\n",
      "hospitalized_currently : 1.9212440003453966\n",
      "hospitalized_cumulative : 2.9058227173339763\n",
      "in_icu_currently : 1.7313191928060119\n",
      "in_icu_cumulative : 0.30134982028982277\n",
      "on_ventilator_currently : 1.3302490640510762\n",
      "on_ventilator_cumulative : 0.32238067829829986\n",
      "recovered : 1.3035703757109436\n",
      "death : 1.9584412767412398\n",
      "total_test_results : 1.7972090843481612\n"
     ]
    }
   ],
   "source": [
    "for x in columnData:\n",
    "    sqskewVal=np.sqrt(df_copy[x]).skew()\n",
    "    print(x,\":\",sqskewVal)"
   ]
  },
  {
   "cell_type": "code",
   "execution_count": 83,
   "metadata": {},
   "outputs": [
    {
     "data": {
      "text/html": [
       "<div>\n",
       "<style scoped>\n",
       "    .dataframe tbody tr th:only-of-type {\n",
       "        vertical-align: middle;\n",
       "    }\n",
       "\n",
       "    .dataframe tbody tr th {\n",
       "        vertical-align: top;\n",
       "    }\n",
       "\n",
       "    .dataframe thead th {\n",
       "        text-align: right;\n",
       "    }\n",
       "</style>\n",
       "<table border=\"1\" class=\"dataframe\">\n",
       "  <thead>\n",
       "    <tr style=\"text-align: right;\">\n",
       "      <th></th>\n",
       "      <th>date</th>\n",
       "      <th>state</th>\n",
       "      <th>positive</th>\n",
       "      <th>negative</th>\n",
       "      <th>pending</th>\n",
       "      <th>hospitalized_currently</th>\n",
       "      <th>hospitalized_cumulative</th>\n",
       "      <th>in_icu_currently</th>\n",
       "      <th>in_icu_cumulative</th>\n",
       "      <th>on_ventilator_currently</th>\n",
       "      <th>on_ventilator_cumulative</th>\n",
       "      <th>recovered</th>\n",
       "      <th>data_quality_grade</th>\n",
       "      <th>death</th>\n",
       "      <th>total_test_results</th>\n",
       "    </tr>\n",
       "  </thead>\n",
       "  <tbody>\n",
       "    <tr>\n",
       "      <th>0</th>\n",
       "      <td>2020-07-24</td>\n",
       "      <td>AK</td>\n",
       "      <td>52.421370</td>\n",
       "      <td>444.774100</td>\n",
       "      <td>NaN</td>\n",
       "      <td>6.082763</td>\n",
       "      <td>NaN</td>\n",
       "      <td>NaN</td>\n",
       "      <td>NaN</td>\n",
       "      <td>1.000000</td>\n",
       "      <td>NaN</td>\n",
       "      <td>28.284271</td>\n",
       "      <td>A</td>\n",
       "      <td>4.358899</td>\n",
       "      <td>447.852654</td>\n",
       "    </tr>\n",
       "    <tr>\n",
       "      <th>1</th>\n",
       "      <td>2020-07-24</td>\n",
       "      <td>AL</td>\n",
       "      <td>275.690043</td>\n",
       "      <td>743.625578</td>\n",
       "      <td>NaN</td>\n",
       "      <td>39.623226</td>\n",
       "      <td>95.692215</td>\n",
       "      <td>NaN</td>\n",
       "      <td>32.526912</td>\n",
       "      <td>NaN</td>\n",
       "      <td>23.769729</td>\n",
       "      <td>180.305297</td>\n",
       "      <td>B</td>\n",
       "      <td>37.920970</td>\n",
       "      <td>793.085115</td>\n",
       "    </tr>\n",
       "    <tr>\n",
       "      <th>2</th>\n",
       "      <td>2020-07-24</td>\n",
       "      <td>AR</td>\n",
       "      <td>193.000000</td>\n",
       "      <td>651.317895</td>\n",
       "      <td>NaN</td>\n",
       "      <td>22.293497</td>\n",
       "      <td>48.590122</td>\n",
       "      <td>NaN</td>\n",
       "      <td>NaN</td>\n",
       "      <td>10.440307</td>\n",
       "      <td>18.138357</td>\n",
       "      <td>172.704951</td>\n",
       "      <td>A+</td>\n",
       "      <td>19.849433</td>\n",
       "      <td>679.311416</td>\n",
       "    </tr>\n",
       "    <tr>\n",
       "      <th>3</th>\n",
       "      <td>2020-07-24</td>\n",
       "      <td>AS</td>\n",
       "      <td>0.000000</td>\n",
       "      <td>32.202484</td>\n",
       "      <td>NaN</td>\n",
       "      <td>NaN</td>\n",
       "      <td>NaN</td>\n",
       "      <td>NaN</td>\n",
       "      <td>NaN</td>\n",
       "      <td>NaN</td>\n",
       "      <td>NaN</td>\n",
       "      <td>NaN</td>\n",
       "      <td>C</td>\n",
       "      <td>0.000000</td>\n",
       "      <td>32.202484</td>\n",
       "    </tr>\n",
       "    <tr>\n",
       "      <th>4</th>\n",
       "      <td>2020-07-24</td>\n",
       "      <td>AZ</td>\n",
       "      <td>395.349213</td>\n",
       "      <td>824.933937</td>\n",
       "      <td>NaN</td>\n",
       "      <td>53.329167</td>\n",
       "      <td>86.377080</td>\n",
       "      <td>28.930952</td>\n",
       "      <td>NaN</td>\n",
       "      <td>23.979158</td>\n",
       "      <td>NaN</td>\n",
       "      <td>142.024646</td>\n",
       "      <td>A+</td>\n",
       "      <td>56.053546</td>\n",
       "      <td>914.777022</td>\n",
       "    </tr>\n",
       "  </tbody>\n",
       "</table>\n",
       "</div>"
      ],
      "text/plain": [
       "         date state    positive    negative  pending  hospitalized_currently  \\\n",
       "0  2020-07-24    AK   52.421370  444.774100      NaN                6.082763   \n",
       "1  2020-07-24    AL  275.690043  743.625578      NaN               39.623226   \n",
       "2  2020-07-24    AR  193.000000  651.317895      NaN               22.293497   \n",
       "3  2020-07-24    AS    0.000000   32.202484      NaN                     NaN   \n",
       "4  2020-07-24    AZ  395.349213  824.933937      NaN               53.329167   \n",
       "\n",
       "   hospitalized_cumulative  in_icu_currently  in_icu_cumulative  \\\n",
       "0                      NaN               NaN                NaN   \n",
       "1                95.692215               NaN          32.526912   \n",
       "2                48.590122               NaN                NaN   \n",
       "3                      NaN               NaN                NaN   \n",
       "4                86.377080         28.930952                NaN   \n",
       "\n",
       "   on_ventilator_currently  on_ventilator_cumulative   recovered  \\\n",
       "0                 1.000000                       NaN   28.284271   \n",
       "1                      NaN                 23.769729  180.305297   \n",
       "2                10.440307                 18.138357  172.704951   \n",
       "3                      NaN                       NaN         NaN   \n",
       "4                23.979158                       NaN  142.024646   \n",
       "\n",
       "  data_quality_grade      death  total_test_results  \n",
       "0                  A   4.358899          447.852654  \n",
       "1                  B  37.920970          793.085115  \n",
       "2                 A+  19.849433          679.311416  \n",
       "3                  C   0.000000           32.202484  \n",
       "4                 A+  56.053546          914.777022  "
      ]
     },
     "execution_count": 83,
     "metadata": {},
     "output_type": "execute_result"
    }
   ],
   "source": [
    "for x in columnData:\n",
    "    df_copy[x]=np.sqrt(df_copy[x])\n",
    "df_copy.head()    "
   ]
  },
  {
   "cell_type": "code",
   "execution_count": 74,
   "metadata": {},
   "outputs": [
    {
     "name": "stdout",
     "output_type": "stream",
     "text": [
      "positive :\n"
     ]
    },
    {
     "data": {
      "image/png": "[encoded data removed]",
      "text/plain": [
       "<Figure size 432x288 with 1 Axes>"
      ]
     },
     "metadata": {
      "needs_background": "light"
     },
     "output_type": "display_data"
    },
    {
     "name": "stdout",
     "output_type": "stream",
     "text": [
      "negative :\n"
     ]
    },
    {
     "data": {
      "image/png": "[encoded data removed]",
      "text/plain": [
       "<Figure size 432x288 with 1 Axes>"
      ]
     },
     "metadata": {
      "needs_background": "light"
     },
     "output_type": "display_data"
    },
    {
     "name": "stdout",
     "output_type": "stream",
     "text": [
      "pending :\n"
     ]
    },
    {
     "data": {
      "image/png": "[encoded data removed]",
      "text/plain": [
       "<Figure size 432x288 with 1 Axes>"
      ]
     },
     "metadata": {
      "needs_background": "light"
     },
     "output_type": "display_data"
    },
    {
     "name": "stdout",
     "output_type": "stream",
     "text": [
      "hospitalized_currently :\n"
     ]
    },
    {
     "data": {
      "image/png": "[encoded data removed]",
      "text/plain": [
       "<Figure size 432x288 with 1 Axes>"
      ]
     },
     "metadata": {
      "needs_background": "light"
     },
     "output_type": "display_data"
    },
    {
     "name": "stdout",
     "output_type": "stream",
     "text": [
      "hospitalized_cumulative :\n"
     ]
    },
    {
     "data": {
      "image/png": "[encoded data removed]",
      "text/plain": [
       "<Figure size 432x288 with 1 Axes>"
      ]
     },
     "metadata": {
      "needs_background": "light"
     },
     "output_type": "display_data"
    },
    {
     "name": "stdout",
     "output_type": "stream",
     "text": [
      "in_icu_currently :\n"
     ]
    },
    {
     "data": {
      "image/png": "[encoded data removed]",
      "text/plain": [
       "<Figure size 432x288 with 1 Axes>"
      ]
     },
     "metadata": {
      "needs_background": "light"
     },
     "output_type": "display_data"
    },
    {
     "name": "stdout",
     "output_type": "stream",
     "text": [
      "in_icu_cumulative :\n"
     ]
    },
    {
     "data": {
      "image/png": "[encoded data removed]",
      "text/plain": [
       "<Figure size 432x288 with 1 Axes>"
      ]
     },
     "metadata": {
      "needs_background": "light"
     },
     "output_type": "display_data"
    },
    {
     "name": "stdout",
     "output_type": "stream",
     "text": [
      "on_ventilator_currently :\n"
     ]
    },
    {
     "data": {
      "image/png": "[encoded data removed]",
      "text/plain": [
       "<Figure size 432x288 with 1 Axes>"
      ]
     },
     "metadata": {
      "needs_background": "light"
     },
     "output_type": "display_data"
    },
    {
     "name": "stdout",
     "output_type": "stream",
     "text": [
      "on_ventilator_cumulative :\n"
     ]
    },
    {
     "data": {
      "image/png": "[encoded data removed]",
      "text/plain": [
       "<Figure size 432x288 with 1 Axes>"
      ]
     },
     "metadata": {
      "needs_background": "light"
     },
     "output_type": "display_data"
    },
    {
     "name": "stdout",
     "output_type": "stream",
     "text": [
      "recovered :\n"
     ]
    },
    {
     "data": {
      "image/png": "[encoded data removed]",
      "text/plain": [
       "<Figure size 432x288 with 1 Axes>"
      ]
     },
     "metadata": {
      "needs_background": "light"
     },
     "output_type": "display_data"
    },
    {
     "name": "stdout",
     "output_type": "stream",
     "text": [
      "death :\n"
     ]
    },
    {
     "data": {
      "image/png": "[encoded data removed]",
      "text/plain": [
       "<Figure size 432x288 with 1 Axes>"
      ]
     },
     "metadata": {
      "needs_background": "light"
     },
     "output_type": "display_data"
    },
    {
     "name": "stdout",
     "output_type": "stream",
     "text": [
      "total_test_results :\n"
     ]
    },
    {
     "data": {
      "image/png": "[encoded data removed]",
      "text/plain": [
       "<Figure size 432x288 with 1 Axes>"
      ]
     },
     "metadata": {
      "needs_background": "light"
     },
     "output_type": "display_data"
    }
   ],
   "source": [
    "for x in columnData:\n",
    "    print(x,\":\")\n",
    "    plt.hist((df_copy[x]));\n",
    "    plt.show()\n",
    "    "
   ]
  },
  {
   "cell_type": "code",
   "execution_count": 75,
   "metadata": {},
   "outputs": [
    {
     "name": "stdout",
     "output_type": "stream",
     "text": [
      "positive :\n"
     ]
    },
    {
     "data": {
      "image/png": "[encoded data removed]",
      "text/plain": [
       "<Figure size 432x288 with 1 Axes>"
      ]
     },
     "metadata": {
      "needs_background": "light"
     },
     "output_type": "display_data"
    },
    {
     "name": "stdout",
     "output_type": "stream",
     "text": [
      "negative :\n"
     ]
    },
    {
     "data": {
      "image/png": "[encoded data removed]",
      "text/plain": [
       "<Figure size 432x288 with 1 Axes>"
      ]
     },
     "metadata": {
      "needs_background": "light"
     },
     "output_type": "display_data"
    },
    {
     "name": "stdout",
     "output_type": "stream",
     "text": [
      "pending :\n"
     ]
    },
    {
     "data": {
      "image/png": "[encoded data removed]",
      "text/plain": [
       "<Figure size 432x288 with 1 Axes>"
      ]
     },
     "metadata": {
      "needs_background": "light"
     },
     "output_type": "display_data"
    },
    {
     "name": "stdout",
     "output_type": "stream",
     "text": [
      "hospitalized_currently :\n"
     ]
    },
    {
     "data": {
      "image/png": "[encoded data removed]",
      "text/plain": [
       "<Figure size 432x288 with 1 Axes>"
      ]
     },
     "metadata": {
      "needs_background": "light"
     },
     "output_type": "display_data"
    },
    {
     "name": "stdout",
     "output_type": "stream",
     "text": [
      "hospitalized_cumulative :\n"
     ]
    },
    {
     "data": {
      "image/png": "[encoded data removed]",
      "text/plain": [
       "<Figure size 432x288 with 1 Axes>"
      ]
     },
     "metadata": {
      "needs_background": "light"
     },
     "output_type": "display_data"
    },
    {
     "name": "stdout",
     "output_type": "stream",
     "text": [
      "in_icu_currently :\n"
     ]
    },
    {
     "data": {
      "image/png": "[encoded data removed]",
      "text/plain": [
       "<Figure size 432x288 with 1 Axes>"
      ]
     },
     "metadata": {
      "needs_background": "light"
     },
     "output_type": "display_data"
    },
    {
     "name": "stdout",
     "output_type": "stream",
     "text": [
      "in_icu_cumulative :\n"
     ]
    },
    {
     "data": {
      "image/png": "[encoded data removed]",
      "text/plain": [
       "<Figure size 432x288 with 1 Axes>"
      ]
     },
     "metadata": {
      "needs_background": "light"
     },
     "output_type": "display_data"
    },
    {
     "name": "stdout",
     "output_type": "stream",
     "text": [
      "on_ventilator_currently :\n"
     ]
    },
    {
     "data": {
      "image/png": "[encoded data removed]",
      "text/plain": [
       "<Figure size 432x288 with 1 Axes>"
      ]
     },
     "metadata": {
      "needs_background": "light"
     },
     "output_type": "display_data"
    },
    {
     "name": "stdout",
     "output_type": "stream",
     "text": [
      "on_ventilator_cumulative :\n"
     ]
    },
    {
     "data": {
      "image/png": "[encoded data removed]",
      "text/plain": [
       "<Figure size 432x288 with 1 Axes>"
      ]
     },
     "metadata": {
      "needs_background": "light"
     },
     "output_type": "display_data"
    },
    {
     "name": "stdout",
     "output_type": "stream",
     "text": [
      "recovered :\n"
     ]
    },
    {
     "data": {
      "image/png": "[encoded data removed]",
      "text/plain": [
       "<Figure size 432x288 with 1 Axes>"
      ]
     },
     "metadata": {
      "needs_background": "light"
     },
     "output_type": "display_data"
    },
    {
     "name": "stdout",
     "output_type": "stream",
     "text": [
      "death :\n"
     ]
    },
    {
     "data": {
      "image/png": "[encoded data removed]",
      "text/plain": [
       "<Figure size 432x288 with 1 Axes>"
      ]
     },
     "metadata": {
      "needs_background": "light"
     },
     "output_type": "display_data"
    },
    {
     "name": "stdout",
     "output_type": "stream",
     "text": [
      "total_test_results :\n"
     ]
    },
    {
     "data": {
      "image/png": "[encoded data removed]",
      "text/plain": [
       "<Figure size 432x288 with 1 Axes>"
      ]
     },
     "metadata": {
      "needs_background": "light"
     },
     "output_type": "display_data"
    }
   ],
   "source": [
    "for x in columnData:\n",
    "    print(x,\":\")\n",
    "    plt.hist(np.sqrt(df_copy[x]));\n",
    "    plt.show()\n",
    "    "
   ]
  },
  {
   "cell_type": "code",
   "execution_count": 97,
   "metadata": {},
   "outputs": [
    {
     "ename": "ValueError",
     "evalue": "time data '2020-07-24' does not match format '%y-%m-%d'",
     "output_type": "error",
     "traceback": [
      "\u001b[1;31m---------------------------------------------------------------------------\u001b[0m",
      "\u001b[1;31mValueError\u001b[0m                                Traceback (most recent call last)",
      "\u001b[1;32m<ipython-input-97-c118d74f3480>\u001b[0m in \u001b[0;36m<module>\u001b[1;34m\u001b[0m\n\u001b[0;32m      1\u001b[0m \u001b[0mdt\u001b[0m\u001b[1;33m=\u001b[0m\u001b[1;33m[\u001b[0m\u001b[1;33m]\u001b[0m\u001b[1;33m\u001b[0m\u001b[1;33m\u001b[0m\u001b[0m\n\u001b[0;32m      2\u001b[0m \u001b[1;32mfor\u001b[0m \u001b[0mx\u001b[0m \u001b[1;32min\u001b[0m \u001b[0mdf_copy\u001b[0m\u001b[1;33m[\u001b[0m\u001b[1;34m\"date\"\u001b[0m\u001b[1;33m]\u001b[0m\u001b[1;33m:\u001b[0m\u001b[1;33m\u001b[0m\u001b[1;33m\u001b[0m\u001b[0m\n\u001b[1;32m----> 3\u001b[1;33m     \u001b[0mdt\u001b[0m\u001b[1;33m.\u001b[0m\u001b[0mappend\u001b[0m\u001b[1;33m(\u001b[0m\u001b[0mdatetime\u001b[0m\u001b[1;33m.\u001b[0m\u001b[0mstrptime\u001b[0m\u001b[1;33m(\u001b[0m\u001b[0mx\u001b[0m\u001b[1;33m,\u001b[0m\u001b[1;34m'%y-%m-%d'\u001b[0m\u001b[1;33m)\u001b[0m\u001b[1;33m)\u001b[0m\u001b[1;33m\u001b[0m\u001b[1;33m\u001b[0m\u001b[0m\n\u001b[0m",
      "\u001b[1;32m~\\Anaconda3\\lib\\_strptime.py\u001b[0m in \u001b[0;36m_strptime_datetime\u001b[1;34m(cls, data_string, format)\u001b[0m\n\u001b[0;32m    575\u001b[0m     \"\"\"Return a class cls instance based on the input string and the\n\u001b[0;32m    576\u001b[0m     format string.\"\"\"\n\u001b[1;32m--> 577\u001b[1;33m     \u001b[0mtt\u001b[0m\u001b[1;33m,\u001b[0m \u001b[0mfraction\u001b[0m\u001b[1;33m,\u001b[0m \u001b[0mgmtoff_fraction\u001b[0m \u001b[1;33m=\u001b[0m \u001b[0m_strptime\u001b[0m\u001b[1;33m(\u001b[0m\u001b[0mdata_string\u001b[0m\u001b[1;33m,\u001b[0m \u001b[0mformat\u001b[0m\u001b[1;33m)\u001b[0m\u001b[1;33m\u001b[0m\u001b[1;33m\u001b[0m\u001b[0m\n\u001b[0m\u001b[0;32m    578\u001b[0m     \u001b[0mtzname\u001b[0m\u001b[1;33m,\u001b[0m \u001b[0mgmtoff\u001b[0m \u001b[1;33m=\u001b[0m \u001b[0mtt\u001b[0m\u001b[1;33m[\u001b[0m\u001b[1;33m-\u001b[0m\u001b[1;36m2\u001b[0m\u001b[1;33m:\u001b[0m\u001b[1;33m]\u001b[0m\u001b[1;33m\u001b[0m\u001b[1;33m\u001b[0m\u001b[0m\n\u001b[0;32m    579\u001b[0m     \u001b[0margs\u001b[0m \u001b[1;33m=\u001b[0m \u001b[0mtt\u001b[0m\u001b[1;33m[\u001b[0m\u001b[1;33m:\u001b[0m\u001b[1;36m6\u001b[0m\u001b[1;33m]\u001b[0m \u001b[1;33m+\u001b[0m \u001b[1;33m(\u001b[0m\u001b[0mfraction\u001b[0m\u001b[1;33m,\u001b[0m\u001b[1;33m)\u001b[0m\u001b[1;33m\u001b[0m\u001b[1;33m\u001b[0m\u001b[0m\n",
      "\u001b[1;32m~\\Anaconda3\\lib\\_strptime.py\u001b[0m in \u001b[0;36m_strptime\u001b[1;34m(data_string, format)\u001b[0m\n\u001b[0;32m    357\u001b[0m     \u001b[1;32mif\u001b[0m \u001b[1;32mnot\u001b[0m \u001b[0mfound\u001b[0m\u001b[1;33m:\u001b[0m\u001b[1;33m\u001b[0m\u001b[1;33m\u001b[0m\u001b[0m\n\u001b[0;32m    358\u001b[0m         raise ValueError(\"time data %r does not match format %r\" %\n\u001b[1;32m--> 359\u001b[1;33m                          (data_string, format))\n\u001b[0m\u001b[0;32m    360\u001b[0m     \u001b[1;32mif\u001b[0m \u001b[0mlen\u001b[0m\u001b[1;33m(\u001b[0m\u001b[0mdata_string\u001b[0m\u001b[1;33m)\u001b[0m \u001b[1;33m!=\u001b[0m \u001b[0mfound\u001b[0m\u001b[1;33m.\u001b[0m\u001b[0mend\u001b[0m\u001b[1;33m(\u001b[0m\u001b[1;33m)\u001b[0m\u001b[1;33m:\u001b[0m\u001b[1;33m\u001b[0m\u001b[1;33m\u001b[0m\u001b[0m\n\u001b[0;32m    361\u001b[0m         raise ValueError(\"unconverted data remains: %s\" %\n",
      "\u001b[1;31mValueError\u001b[0m: time data '2020-07-24' does not match format '%y-%m-%d'"
     ]
    }
   ],
   "source": [
    "dt=[]\n",
    "for x in df_copy[\"date\"]:\n",
    "    dt.append(datetime.strptime(x,'%y-%m-%d'))\n",
    "    "
   ]
  },
  {
   "cell_type": "code",
   "execution_count": 86,
   "metadata": {},
   "outputs": [
    {
     "data": {
      "text/plain": [
       "<matplotlib.collections.PathCollection at 0x1eaee6f7860>"
      ]
     },
     "execution_count": 86,
     "metadata": {},
     "output_type": "execute_result"
    },
    {
     "data": {
      "image/png": "[encoded data removed]",
      "text/plain": [
       "<Figure size 432x288 with 1 Axes>"
      ]
     },
     "metadata": {
      "needs_background": "light"
     },
     "output_type": "display_data"
    }
   ],
   "source": [
    "plt.scatter(df_copy[\"date\"],df_copy[\"positive\"])"
   ]
  },
  {
   "cell_type": "code",
   "execution_count": null,
   "metadata": {},
   "outputs": [],
   "source": []
  },
  {
   "cell_type": "code",
   "execution_count": null,
   "metadata": {},
   "outputs": [],
   "source": []
  }
 ],
 "metadata": {
  "kernelspec": {
   "display_name": "Python 3",
   "language": "python",
   "name": "python3"
  },
  "language_info": {
   "codemirror_mode": {
    "name": "ipython",
    "version": 3
   },
   "file_extension": ".py",
   "mimetype": "text/x-python",
   "name": "python",
   "nbconvert_exporter": "python",
   "pygments_lexer": "ipython3",
   "version": "3.7.6"
  }
 },
 "nbformat": 4,
 "nbformat_minor": 4
}
